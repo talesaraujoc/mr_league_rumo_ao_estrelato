{
 "cells": [
  {
   "cell_type": "code",
   "execution_count": 11,
   "id": "cd529ac8",
   "metadata": {},
   "outputs": [],
   "source": [
    "import gspread\n",
    "import pandas as pd\n",
    "from gspread_dataframe import get_as_dataframe\n",
    "from google.oauth2.service_account import Credentials\n",
    "\n",
    "# Variáveis fixas para o seu projeto\n",
    "SHEET_ID = \"1_OQkQpER2aKNnSqezZb15L9u93i-kn2kBUDBwvjqeQI\"\n",
    "NOME_ABA = \"main\"\n",
    "ARQUIVO_CREDENCIAL = \"service_account.json\"\n",
    "\n",
    "def carregar_dados_google_sheets(sheet_id: str = SHEET_ID, nome_aba: str = NOME_ABA) -> pd.DataFrame:\n",
    "    \"\"\"\n",
    "    Carrega dados de uma aba específica de um Google Sheets.\n",
    "\n",
    "    :param sheet_id: ID da planilha no Google Sheets\n",
    "    :param nome_aba: Nome da aba a ser lida\n",
    "    :return: DataFrame com os dados lidos\n",
    "    \"\"\"\n",
    "    try:\n",
    "        # Define os escopos de acesso necessários\n",
    "        scopes = [\"https://spreadsheets.google.com/feeds\", \"https://www.googleapis.com/auth/drive\"]\n",
    "        \n",
    "        # Carrega as credenciais do arquivo de conta de serviço\n",
    "        credentials = Credentials.from_service_account_file(ARQUIVO_CREDENCIAL, scopes=scopes)\n",
    "        \n",
    "        # Autoriza o cliente do gspread\n",
    "        client = gspread.authorize(credentials)\n",
    "        \n",
    "        # Abre a planilha pelo ID\n",
    "        sheet = client.open_by_key(sheet_id)\n",
    "        \n",
    "        # Abre a aba desejada\n",
    "        worksheet = sheet.worksheet(nome_aba)\n",
    "        \n",
    "        # Converte para DataFrame\n",
    "        df = get_as_dataframe(worksheet, evaluate_formulas=True, dtype=str)\n",
    "        \n",
    "        # Remove linhas e colunas totalmente vazias\n",
    "        #df = df.dropna(how='all').dropna(axis=1, how='all')\n",
    "\n",
    "        print(f\"[INFO] Dados carregados com sucesso! {df.shape[0]} linhas e {df.shape[1]} colunas.\")\n",
    "\n",
    "        return df\n",
    "\n",
    "    except Exception as e:\n",
    "        print(f\"[ERRO] Falha ao carregar dados do Google Sheets: {str(e)}\")\n",
    "        return pd.DataFrame()  # Retorna DataFrame vazio em caso de erro\n"
   ]
  },
  {
   "cell_type": "code",
   "execution_count": 16,
   "id": "5b0accb7",
   "metadata": {},
   "outputs": [],
   "source": [
    "CRITERIOS = {\n",
    "    'ATA': {'V': 7, 'E': 0, 'D': -4, 'GOL': 7, 'ASS': 4, 'STG': 2, 'GC': -10, 'AMA': -4, 'AZUL': -8, 'VER': -16, 'PP': -10, 'GS': 0, 'DD': 0, 'DP': 0},\n",
    "    'MEI': {'V': 7, 'E': 0, 'D': -4, 'GOL': 8.5, 'ASS': 5, 'STG': 2.5, 'GC': -10, 'AMA': -4, 'AZUL': -8, 'VER': -16, 'PP': -10, 'GS': 0, 'DD': 0, 'DP': 0},\n",
    "    'ZAG': {'V': 7, 'E': 0, 'D': -4, 'GOL': 10, 'ASS': 6, 'STG': 3, 'GC': -10, 'AMA': -4, 'AZUL': -8, 'VER': -16, 'PP': -10, 'GS': 0, 'DD': 0, 'DP': 0},\n",
    "    'GK':  {'V': 6, 'E': 0, 'D': -3, 'GOL': 16, 'ASS': 10, 'STG': 4, 'GC': -10, 'AMA': -4, 'AZUL': -8, 'VER': -16, 'PP': -10, 'GS': -5, 'DD': 5, 'DP': 20}\n",
    "}\n",
    "def tratar_dataframe(df: pd.DataFrame) -> pd.DataFrame:\n",
    "    \"\"\"\n",
    "    Trata o DataFrame: converte tipos e cria a coluna de pontos (PTS).\n",
    "    \"\"\"\n",
    "    # 1. Lista de colunas que devem ser numéricas\n",
    "    colunas_para_int = ['V', 'E', 'D', 'GOL', 'ASS', 'STG', 'GC', 'AMA', 'AZUL', 'VER', 'PP', 'GS', 'DD', 'DP', 'FALTA']\n",
    "\n",
    "    # 2. Converte essas colunas para int, preenchendo valores ausentes com 0 antes\n",
    "    for col in colunas_para_int:\n",
    "        if col in df.columns:\n",
    "            df[col] = pd.to_numeric(df[col].fillna(0), errors='coerce').fillna(0).astype(int)\n",
    "\n",
    "    # 3. Função interna para calcular pontos linha a linha\n",
    "    def calcular_pontos(row):\n",
    "        posicao = row['POSIÇÃO']\n",
    "        if posicao not in CRITERIOS:\n",
    "            return 0  # posição desconhecida\n",
    "        pontos = sum(row[col] * CRITERIOS[posicao].get(col, 0) for col in CRITERIOS[posicao])\n",
    "        return pontos\n",
    "\n",
    "    # 4. Aplica a função no DataFrame\n",
    "    df['PTS'] = df.apply(calcular_pontos, axis=1)\n",
    "\n",
    "    return df"
   ]
  },
  {
   "cell_type": "code",
   "execution_count": 19,
   "id": "ce6838c0",
   "metadata": {},
   "outputs": [
    {
     "name": "stdout",
     "output_type": "stream",
     "text": [
      "[INFO] Dados carregados com sucesso! 60 linhas e 22 colunas.\n"
     ]
    }
   ],
   "source": [
    "df = carregar_dados_google_sheets()\n",
    "df = tratar_dataframe(df)"
   ]
  },
  {
   "cell_type": "code",
   "execution_count": 20,
   "id": "21c758ca",
   "metadata": {},
   "outputs": [
    {
     "name": "stdout",
     "output_type": "stream",
     "text": [
      "<class 'pandas.core.frame.DataFrame'>\n",
      "Index: 60 entries, 0 to 59\n",
      "Data columns (total 23 columns):\n",
      " #   Column      Non-Null Count  Dtype  \n",
      "---  ------      --------------  -----  \n",
      " 0   DATA        60 non-null     object \n",
      " 1   COMPETIÇÃO  60 non-null     object \n",
      " 2   RODADA      60 non-null     object \n",
      " 3   PARTIDA     60 non-null     object \n",
      " 4   PLAYER      60 non-null     object \n",
      " 5   POSIÇÃO     60 non-null     object \n",
      " 6   TIME        60 non-null     object \n",
      " 7   V           60 non-null     int64  \n",
      " 8   E           60 non-null     int64  \n",
      " 9   D           60 non-null     int64  \n",
      " 10  GOL         60 non-null     int64  \n",
      " 11  ASS         60 non-null     int64  \n",
      " 12  STG         60 non-null     int64  \n",
      " 13  GC          60 non-null     int64  \n",
      " 14  AMA         60 non-null     int64  \n",
      " 15  AZUL        60 non-null     int64  \n",
      " 16  VER         60 non-null     int64  \n",
      " 17  PP          60 non-null     int64  \n",
      " 18  GS          60 non-null     int64  \n",
      " 19  DD          60 non-null     int64  \n",
      " 20  DP          60 non-null     int64  \n",
      " 21  FALTA       60 non-null     int64  \n",
      " 22  PTS         60 non-null     float64\n",
      "dtypes: float64(1), int64(15), object(7)\n",
      "memory usage: 11.2+ KB\n"
     ]
    }
   ],
   "source": [
    "df.info()"
   ]
  }
 ],
 "metadata": {
  "kernelspec": {
   "display_name": "venv_mr_league_estrelato",
   "language": "python",
   "name": "python3"
  },
  "language_info": {
   "codemirror_mode": {
    "name": "ipython",
    "version": 3
   },
   "file_extension": ".py",
   "mimetype": "text/x-python",
   "name": "python",
   "nbconvert_exporter": "python",
   "pygments_lexer": "ipython3",
   "version": "3.12.5"
  }
 },
 "nbformat": 4,
 "nbformat_minor": 5
}
